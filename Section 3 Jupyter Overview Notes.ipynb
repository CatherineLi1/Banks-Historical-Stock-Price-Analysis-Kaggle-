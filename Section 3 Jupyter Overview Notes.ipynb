{
 "cells": [
  {
   "cell_type": "markdown",
   "id": "43aae834",
   "metadata": {},
   "source": [
    "# Section 3 Jupyter Overview Notes"
   ]
  },
  {
   "cell_type": "markdown",
   "id": "afe71b85",
   "metadata": {},
   "source": [
    "### Shortcuts"
   ]
  },
  {
   "cell_type": "markdown",
   "id": "07165532",
   "metadata": {},
   "source": [
    "- ctrl s >> save\n",
    "- shift + enter >> run current cell and moves on to the next one. If there isn't any, create  new cell\n",
    "- To stop a currently running block, go to kernel at the top and select the desired feature\n",
    "- alt + enter >> run current cell and add new cell below\n",
    "\n",
    "NOTE: Green box >> coding, Blue box >> markdown"
   ]
  },
  {
   "cell_type": "markdown",
   "id": "4753ab1c",
   "metadata": {},
   "source": [
    "* **bold: double enclosed_asterisk **\n",
    "* *italics: enclosed asterisk *\n",
    "* bullets: asterisk\n",
    "* $1+2=3 math: dollar sign$\n",
    "* $$1+2=3 math: centred_double_dollar_sign$$"
   ]
  },
  {
   "cell_type": "markdown",
   "id": "edabe324",
   "metadata": {},
   "source": [
    "### Code Examples"
   ]
  },
  {
   "cell_type": "code",
   "execution_count": 1,
   "id": "e4106628",
   "metadata": {},
   "outputs": [
    {
     "name": "stdout",
     "output_type": "stream",
     "text": [
      "hi 1\n"
     ]
    }
   ],
   "source": [
    "a = 1\n",
    "print(f'hi {a}')"
   ]
  }
 ],
 "metadata": {
  "kernelspec": {
   "display_name": "Python 3 (ipykernel)",
   "language": "python",
   "name": "python3"
  },
  "language_info": {
   "codemirror_mode": {
    "name": "ipython",
    "version": 3
   },
   "file_extension": ".py",
   "mimetype": "text/x-python",
   "name": "python",
   "nbconvert_exporter": "python",
   "pygments_lexer": "ipython3",
   "version": "3.9.7"
  }
 },
 "nbformat": 4,
 "nbformat_minor": 5
}
